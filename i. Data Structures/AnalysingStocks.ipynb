{
 "cells": [
  {
   "cell_type": "markdown",
   "metadata": {
    "collapsed": true
   },
   "source": [
    "---\n",
    "__Analyzing Stock Prices__\n",
    "\n",
    "---"
   ]
  },
  {
   "cell_type": "markdown",
   "metadata": {},
   "source": [
    "In this project, we'll look at stock market data from the yahoo_finance Python package. \n",
    "\n",
    "This data consists of the daily stock prices from 2007-1-1 to 2017-04-17 for several hundred stock symbols traded on the NASDAQ stock exchange, stored in the prices folder. \n",
    "\n",
    "The download_data.py script in the same folder as the Jupyter notebook was used to download all of the stock price data. \n",
    "\n",
    "Each file in the prices folder is named for a specific stock symbol, and contains the:\n",
    "\n",
    "- date -- date that the data is from.\n",
    "- close -- the closing price on that day, which is the price when the trading day ends.\n",
    "- open -- the opening price on that day, which is the price when the trading day starts.\n",
    "- high -- the highest price the stock reached during trading.\n",
    "- low -- the lowest price the stock reached during trading.\n",
    "- volume -- the number of shares that were traded during the day."
   ]
  },
  {
   "cell_type": "code",
   "execution_count": 1,
   "metadata": {},
   "outputs": [],
   "source": [
    "import os, pandas as pd"
   ]
  },
  {
   "cell_type": "code",
   "execution_count": 2,
   "metadata": {},
   "outputs": [
    {
     "name": "stdout",
     "output_type": "stream",
     "text": [
      "Files in directory:  560\n"
     ]
    }
   ],
   "source": [
    "print(\"Files in directory: \", len(os.listdir('prices/')))"
   ]
  },
  {
   "cell_type": "code",
   "execution_count": 3,
   "metadata": {},
   "outputs": [
    {
     "name": "stdout",
     "output_type": "stream",
     "text": [
      "Rows across all directory files: 1449763\n"
     ]
    }
   ],
   "source": [
    "print('Rows across all directory files:' , \n",
    "      (sum([ pd.read_csv(\"prices/\" + i).shape[0] for i in os.listdir('prices/')])))"
   ]
  },
  {
   "cell_type": "code",
   "execution_count": 4,
   "metadata": {
    "scrolled": true
   },
   "outputs": [],
   "source": [
    "# Create dictionary of dataframes for directory files\n",
    "directory = 'prices'\n",
    "stocks = {}\n",
    "for file in os.listdir(directory):\n",
    "    key = file.split('.')[0]\n",
    "    val = pd.read_csv(os.path.join(directory, file))\n",
    "    stocks[key] = val"
   ]
  },
  {
   "cell_type": "code",
   "execution_count": 5,
   "metadata": {},
   "outputs": [
    {
     "data": {
      "text/html": [
       "<div>\n",
       "<style scoped>\n",
       "    .dataframe tbody tr th:only-of-type {\n",
       "        vertical-align: middle;\n",
       "    }\n",
       "\n",
       "    .dataframe tbody tr th {\n",
       "        vertical-align: top;\n",
       "    }\n",
       "\n",
       "    .dataframe thead th {\n",
       "        text-align: right;\n",
       "    }\n",
       "</style>\n",
       "<table border=\"1\" class=\"dataframe\">\n",
       "  <thead>\n",
       "    <tr style=\"text-align: right;\">\n",
       "      <th></th>\n",
       "      <th>date</th>\n",
       "      <th>close</th>\n",
       "      <th>open</th>\n",
       "      <th>high</th>\n",
       "      <th>low</th>\n",
       "      <th>volume</th>\n",
       "    </tr>\n",
       "  </thead>\n",
       "  <tbody>\n",
       "    <tr>\n",
       "      <th>0</th>\n",
       "      <td>2007-01-03</td>\n",
       "      <td>83.800002</td>\n",
       "      <td>86.289999</td>\n",
       "      <td>86.579999</td>\n",
       "      <td>81.899999</td>\n",
       "      <td>309579900</td>\n",
       "    </tr>\n",
       "    <tr>\n",
       "      <th>1</th>\n",
       "      <td>2007-01-04</td>\n",
       "      <td>85.659998</td>\n",
       "      <td>84.050001</td>\n",
       "      <td>85.949998</td>\n",
       "      <td>83.820003</td>\n",
       "      <td>211815100</td>\n",
       "    </tr>\n",
       "    <tr>\n",
       "      <th>2</th>\n",
       "      <td>2007-01-05</td>\n",
       "      <td>85.049997</td>\n",
       "      <td>85.770000</td>\n",
       "      <td>86.199997</td>\n",
       "      <td>84.400002</td>\n",
       "      <td>208685400</td>\n",
       "    </tr>\n",
       "    <tr>\n",
       "      <th>3</th>\n",
       "      <td>2007-01-08</td>\n",
       "      <td>85.470000</td>\n",
       "      <td>85.959998</td>\n",
       "      <td>86.529998</td>\n",
       "      <td>85.280003</td>\n",
       "      <td>199276700</td>\n",
       "    </tr>\n",
       "    <tr>\n",
       "      <th>4</th>\n",
       "      <td>2007-01-09</td>\n",
       "      <td>92.570003</td>\n",
       "      <td>86.450003</td>\n",
       "      <td>92.979999</td>\n",
       "      <td>85.150000</td>\n",
       "      <td>837324600</td>\n",
       "    </tr>\n",
       "  </tbody>\n",
       "</table>\n",
       "</div>"
      ],
      "text/plain": [
       "         date      close       open       high        low     volume\n",
       "0  2007-01-03  83.800002  86.289999  86.579999  81.899999  309579900\n",
       "1  2007-01-04  85.659998  84.050001  85.949998  83.820003  211815100\n",
       "2  2007-01-05  85.049997  85.770000  86.199997  84.400002  208685400\n",
       "3  2007-01-08  85.470000  85.959998  86.529998  85.280003  199276700\n",
       "4  2007-01-09  92.570003  86.450003  92.979999  85.150000  837324600"
      ]
     },
     "execution_count": 5,
     "metadata": {},
     "output_type": "execute_result"
    }
   ],
   "source": [
    "stocks['aapl'].head()"
   ]
  },
  {
   "cell_type": "markdown",
   "metadata": {},
   "source": [
    "__Closing Prices__"
   ]
  },
  {
   "cell_type": "code",
   "execution_count": 6,
   "metadata": {},
   "outputs": [],
   "source": [
    "# Average closing price\n",
    "closing_mean = {}\n",
    "for df in stocks.keys():\n",
    "    close = stocks[df]['close'].mean()\n",
    "    closing_mean.update({df: close})\n",
    "    \n",
    "closing_mean = pd.DataFrame(data = closing_mean.values(), \n",
    "                            index = closing_mean.keys(),\n",
    "                           columns = ['close_mean'])\n",
    "\n",
    "closing_mean = closing_mean.sort_values(by = 'close_mean', ascending = False)"
   ]
  },
  {
   "cell_type": "code",
   "execution_count": 7,
   "metadata": {},
   "outputs": [
    {
     "name": "stdout",
     "output_type": "stream",
     "text": [
      "Top 5\n"
     ]
    },
    {
     "data": {
      "text/html": [
       "<div>\n",
       "<style scoped>\n",
       "    .dataframe tbody tr th:only-of-type {\n",
       "        vertical-align: middle;\n",
       "    }\n",
       "\n",
       "    .dataframe tbody tr th {\n",
       "        vertical-align: top;\n",
       "    }\n",
       "\n",
       "    .dataframe thead th {\n",
       "        text-align: right;\n",
       "    }\n",
       "</style>\n",
       "<table border=\"1\" class=\"dataframe\">\n",
       "  <thead>\n",
       "    <tr style=\"text-align: right;\">\n",
       "      <th></th>\n",
       "      <th>close_mean</th>\n",
       "    </tr>\n",
       "  </thead>\n",
       "  <tbody>\n",
       "    <tr>\n",
       "      <th>amzn</th>\n",
       "      <td>275.13</td>\n",
       "    </tr>\n",
       "    <tr>\n",
       "      <th>aapl</th>\n",
       "      <td>257.18</td>\n",
       "    </tr>\n",
       "    <tr>\n",
       "      <th>cme</th>\n",
       "      <td>230.29</td>\n",
       "    </tr>\n",
       "    <tr>\n",
       "      <th>atri</th>\n",
       "      <td>228.39</td>\n",
       "    </tr>\n",
       "    <tr>\n",
       "      <th>fcnca</th>\n",
       "      <td>200.25</td>\n",
       "    </tr>\n",
       "  </tbody>\n",
       "</table>\n",
       "</div>"
      ],
      "text/plain": [
       "       close_mean\n",
       "amzn       275.13\n",
       "aapl       257.18\n",
       "cme        230.29\n",
       "atri       228.39\n",
       "fcnca      200.25"
      ]
     },
     "execution_count": 7,
     "metadata": {},
     "output_type": "execute_result"
    }
   ],
   "source": [
    "print('Top 5') \n",
    "closing_mean.head().round(2)"
   ]
  },
  {
   "cell_type": "code",
   "execution_count": 8,
   "metadata": {},
   "outputs": [
    {
     "name": "stdout",
     "output_type": "stream",
     "text": [
      "Bottom 5\n"
     ]
    },
    {
     "data": {
      "text/html": [
       "<div>\n",
       "<style scoped>\n",
       "    .dataframe tbody tr th:only-of-type {\n",
       "        vertical-align: middle;\n",
       "    }\n",
       "\n",
       "    .dataframe tbody tr th {\n",
       "        vertical-align: top;\n",
       "    }\n",
       "\n",
       "    .dataframe thead th {\n",
       "        text-align: right;\n",
       "    }\n",
       "</style>\n",
       "<table border=\"1\" class=\"dataframe\">\n",
       "  <thead>\n",
       "    <tr style=\"text-align: right;\">\n",
       "      <th></th>\n",
       "      <th>close_mean</th>\n",
       "    </tr>\n",
       "  </thead>\n",
       "  <tbody>\n",
       "    <tr>\n",
       "      <th>cyrx</th>\n",
       "      <td>1.16</td>\n",
       "    </tr>\n",
       "    <tr>\n",
       "      <th>bcli</th>\n",
       "      <td>1.00</td>\n",
       "    </tr>\n",
       "    <tr>\n",
       "      <th>bmra</th>\n",
       "      <td>0.90</td>\n",
       "    </tr>\n",
       "    <tr>\n",
       "      <th>apdn</th>\n",
       "      <td>0.82</td>\n",
       "    </tr>\n",
       "    <tr>\n",
       "      <th>blfs</th>\n",
       "      <td>0.81</td>\n",
       "    </tr>\n",
       "  </tbody>\n",
       "</table>\n",
       "</div>"
      ],
      "text/plain": [
       "      close_mean\n",
       "cyrx        1.16\n",
       "bcli        1.00\n",
       "bmra        0.90\n",
       "apdn        0.82\n",
       "blfs        0.81"
      ]
     },
     "execution_count": 8,
     "metadata": {},
     "output_type": "execute_result"
    }
   ],
   "source": [
    "print('Bottom 5')\n",
    "closing_mean.tail().round(2)"
   ]
  },
  {
   "cell_type": "markdown",
   "metadata": {},
   "source": [
    "__Trades Per Day__"
   ]
  },
  {
   "cell_type": "code",
   "execution_count": 9,
   "metadata": {},
   "outputs": [],
   "source": [
    "day_trades = {}\n",
    "\n",
    "for i in stocks.keys():\n",
    "    for ind, row in stocks[i].iterrows():\n",
    "        day = row['date']\n",
    "        vol = row['volume']\n",
    "        pair = (vol, i)\n",
    "        \n",
    "        if day not in day_trades:\n",
    "            day_trades[day] = []\n",
    "                \n",
    "        day_trades[day].append(pair)"
   ]
  },
  {
   "cell_type": "markdown",
   "metadata": {},
   "source": [
    "__Most Traded Stock Per Day__"
   ]
  },
  {
   "cell_type": "code",
   "execution_count": 10,
   "metadata": {},
   "outputs": [],
   "source": [
    "top_daily = {}\n",
    "\n",
    "for i in day_trades:\n",
    "    day_trades[i].sort()\n",
    "    top_daily[i] = day_trades[i][-1]"
   ]
  },
  {
   "cell_type": "markdown",
   "metadata": {},
   "source": [
    "__High Volume Days__"
   ]
  },
  {
   "cell_type": "code",
   "execution_count": 11,
   "metadata": {},
   "outputs": [
    {
     "data": {
      "text/plain": [
       "[(1533363200, '2008-01-24'),\n",
       " (1536176400, '2008-01-16'),\n",
       " (1553880500, '2007-11-08'),\n",
       " (1555072400, '2008-09-29'),\n",
       " (1559032100, '2008-02-07'),\n",
       " (1578877700, '2008-01-22'),\n",
       " (1599183500, '2008-10-08'),\n",
       " (1611272800, '2007-07-26'),\n",
       " (1770266900, '2008-10-10'),\n",
       " (1964583900, '2008-01-23')]"
      ]
     },
     "execution_count": 11,
     "metadata": {},
     "output_type": "execute_result"
    }
   ],
   "source": [
    "vols = []\n",
    "\n",
    "for i in day_trades:\n",
    "    day_vol = sum([vol for vol, _ in day_trades[i]])\n",
    "    vols.append((round(day_vol,2), i))\n",
    "\n",
    "vols.sort()\n",
    "vols[-10:]"
   ]
  },
  {
   "cell_type": "markdown",
   "metadata": {},
   "source": [
    "__Most Profitable Stocks__"
   ]
  },
  {
   "cell_type": "code",
   "execution_count": 12,
   "metadata": {},
   "outputs": [
    {
     "data": {
      "text/plain": [
       "[(1330.0, 'achc'),\n",
       " (1339.21, 'bcli'),\n",
       " (1525.16, 'cui'),\n",
       " (1549.67, 'apdn'),\n",
       " (1707.36, 'anip'),\n",
       " (2230.72, 'amzn'),\n",
       " (2437.44, 'blfs'),\n",
       " (3898.6, 'arcw'),\n",
       " (4005.0, 'adxs'),\n",
       " (7483.84, 'admp')]"
      ]
     },
     "execution_count": 12,
     "metadata": {},
     "output_type": "execute_result"
    }
   ],
   "source": [
    "pct_change = []\n",
    "for i in stocks:\n",
    "    data = stocks[i]\n",
    "    start = data.loc[0, 'close']\n",
    "    end = data.loc[len(data.index)-1, 'close']\n",
    "    pct = round(100 * (end - start) / start,2)\n",
    "    pct_change.append((pct, i))\n",
    "    \n",
    "pct_change.sort()\n",
    "pct_change[-10:]"
   ]
  },
  {
   "cell_type": "markdown",
   "metadata": {},
   "source": [
    "Within this dataset, the most profitable stock to have purchased wsa teh ADMP stock, growing by almost 8000% in value over the period. \n",
    "\n",
    "Potential further analysis:\n",
    "- What stocks would have been best to short at the start of the period?\n",
    "- Which stocks have the most after-hours trading, and show the biggest changes between the closing price and the next day open?\n",
    "- Can technical indicators like Bollinger Bands help us forecast the market?\n",
    "- What time periods have resulted in steady increases in prices, and what periods have resulted in steady declines?\n",
    "- Based on price, what was the optimal day to buy each stock if we wanted to hold them until now?\n",
    "- On days with high trading volume, do stocks move in one direction (up or down) more than the other one?\n",
    "\n"
   ]
  }
 ],
 "metadata": {
  "kernelspec": {
   "display_name": "Python 3",
   "language": "python",
   "name": "python3"
  },
  "language_info": {
   "codemirror_mode": {
    "name": "ipython",
    "version": 3
   },
   "file_extension": ".py",
   "mimetype": "text/x-python",
   "name": "python",
   "nbconvert_exporter": "python",
   "pygments_lexer": "ipython3",
   "version": "3.8.2"
  }
 },
 "nbformat": 4,
 "nbformat_minor": 1
}
