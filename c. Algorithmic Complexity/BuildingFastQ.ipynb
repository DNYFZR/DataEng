{
 "cells": [
  {
   "cell_type": "markdown",
   "metadata": {},
   "source": [
    "### Project: Building Fast Queries on CSV's"
   ]
  },
  {
   "cell_type": "markdown",
   "metadata": {},
   "source": [
    "---\n",
    "\n",
    "__The aim is to create a class that represents the inventory.__ \n",
    "\n",
    "The methods in that class will implement the queries that we want to answer about our inventory. We will also preprocess that data to make those queries run faster.\n",
    "\n",
    "---\n",
    "\n",
    "__Through this project we will look to answer:__\n",
    "\n",
    "- Given a laptop id, find the corresponding data.\n",
    "\n",
    "- Given an amount of money, find whether there are two laptops whose total price is that given amount.\n",
    "\n",
    "- Identify all laptops whose price falls within a given budget.\n",
    "\n",
    "---\n",
    "\n",
    "__We will use the laptops.csv file as our inventory. This CSV file was adapted from the Laptop Prices dataset on Kaggle.__\n",
    " \n",
    "Data columns:\n",
    "\n",
    "- ID: A unique identifier for the laptop.\n",
    "- Company: The name of the company that produces the laptop.\n",
    "- Product: The name of the laptop.\n",
    "- TypeName: The type of laptop.\n",
    "- Inches: The size of the screen in inches.\n",
    "- ScreenResolution: The resolution of the screen.\n",
    "- CPU: The laptop CPU.\n",
    "- RAM: The amount of RAM in the laptop.\n",
    "- Memory: The size of the hard drive.\n",
    "- GPU: The graphics card name.\n",
    "- OpSys: The name of the operating system.\n",
    "- Weight: The laptop weight.\n",
    "- Price: The price of the laptop.\n"
   ]
  },
  {
   "cell_type": "code",
   "execution_count": 1,
   "metadata": {},
   "outputs": [],
   "source": [
    "import csv\n",
    "with open('laptops.csv') as file:\n",
    "    master = list(csv.reader(file))\n",
    "    header = master[0]\n",
    "    rows = master[1:]"
   ]
  },
  {
   "cell_type": "code",
   "execution_count": 2,
   "metadata": {},
   "outputs": [
    {
     "output_type": "stream",
     "name": "stdout",
     "text": [
      "['Id', 'Company', 'Product', 'TypeName', 'Inches', 'ScreenResolution', 'Cpu', 'Ram', 'Memory', 'Gpu', 'OpSys', 'Weight', 'Price']\n"
     ]
    }
   ],
   "source": [
    "print(header)"
   ]
  },
  {
   "cell_type": "code",
   "execution_count": 3,
   "metadata": {},
   "outputs": [
    {
     "output_type": "stream",
     "name": "stdout",
     "text": [
      "['6571244', 'Apple', 'MacBook Pro', 'Ultrabook', '13.3', 'IPS Panel Retina Display 2560x1600', 'Intel Core i5 2.3GHz', '8GB', '128GB SSD', 'Intel Iris Plus Graphics 640', 'macOS', '1.37kg', '1339'] \n\n['7287764', 'Apple', 'Macbook Air', 'Ultrabook', '13.3', '1440x900', 'Intel Core i5 1.8GHz', '8GB', '128GB Flash Storage', 'Intel HD Graphics 6000', 'macOS', '1.34kg', '898'] \n\n['3362737', 'HP', '250 G6', 'Notebook', '15.6', 'Full HD 1920x1080', 'Intel Core i5 7200U 2.5GHz', '8GB', '256GB SSD', 'Intel HD Graphics 620', 'No OS', '1.86kg', '575'] \n\n['9722156', 'Apple', 'MacBook Pro', 'Ultrabook', '15.4', 'IPS Panel Retina Display 2880x1800', 'Intel Core i7 2.7GHz', '16GB', '512GB SSD', 'AMD Radeon Pro 455', 'macOS', '1.83kg', '2537'] \n\n['8550527', 'Apple', 'MacBook Pro', 'Ultrabook', '13.3', 'IPS Panel Retina Display 2560x1600', 'Intel Core i5 3.1GHz', '8GB', '256GB SSD', 'Intel Iris Plus Graphics 650', 'macOS', '1.37kg', '1803'] \n\n"
     ]
    },
    {
     "output_type": "execute_result",
     "data": {
      "text/plain": [
       "[None, None, None, None, None]"
      ]
     },
     "metadata": {},
     "execution_count": 3
    }
   ],
   "source": [
    "[print(i, '\\n') for i in rows[:5]]"
   ]
  },
  {
   "cell_type": "markdown",
   "metadata": {},
   "source": [
    "\n"
   ]
  },
  {
   "cell_type": "code",
   "execution_count": 4,
   "metadata": {},
   "outputs": [],
   "source": [
    "# 1st Inventory class\n",
    "# Implement the class constructor\n",
    "# Takes name of the CSV file as argument and reads rows\n",
    "\n",
    "class Inventory():\n",
    "    import csv\n",
    "    def __init__(self, csv_filename, encoding = 'utf8'):\n",
    "        \n",
    "        # Open file as list of lists\n",
    "        with open(csv_filename) as file:\n",
    "            master = list(csv.reader(file))\n",
    "            self.header = master[0]\n",
    "            self.rows = master[1:]\n",
    "            \n",
    "            # Price from str to int\n",
    "            for row in self.rows:\n",
    "                row[12] = int(row[12])"
   ]
  },
  {
   "cell_type": "code",
   "execution_count": 5,
   "metadata": {},
   "outputs": [
    {
     "output_type": "stream",
     "name": "stdout",
     "text": [
      "['Id', 'Company', 'Product', 'TypeName', 'Inches', 'ScreenResolution', 'Cpu', 'Ram', 'Memory', 'Gpu', 'OpSys', 'Weight', 'Price']\nLeneth of check.rows: 1303\n"
     ]
    }
   ],
   "source": [
    "check = Inventory('laptops.csv')\n",
    "print(check.header)\n",
    "print('Leneth of check.rows:', len(check.rows))"
   ]
  },
  {
   "cell_type": "code",
   "execution_count": 6,
   "metadata": {},
   "outputs": [],
   "source": [
    "# 2nd Inventory class \n",
    "# Add get_laptop_from_id() method\n",
    "# Implement way to look up laptop from a given identifier\n",
    "# If customer comes to store with receipt, can find laptop with identifier code\n",
    "\n",
    "class Inventory():\n",
    "    import csv\n",
    "    \n",
    "    def __init__(self, csv_filename, encoding = 'utf8'):\n",
    "        \n",
    "        # Open file as list of lists\n",
    "        with open(csv_filename) as file:\n",
    "            master = list(csv.reader(file))\n",
    "            self.header = master[0]\n",
    "            self.rows = master[1:]\n",
    "            \n",
    "            # Price from str to int\n",
    "            for row in self.rows:\n",
    "                row[12] = int(row[12])\n",
    "    \n",
    "    def get_laptop_from_id(self, laptop_id):\n",
    "        if type(laptop_id) == int:\n",
    "            laptop_id = str(laptop_id)\n",
    "        for row in self.rows:\n",
    "            if row[0] == laptop_id:\n",
    "                return row"
   ]
  },
  {
   "cell_type": "code",
   "execution_count": 7,
   "metadata": {},
   "outputs": [
    {
     "output_type": "stream",
     "name": "stdout",
     "text": [
      "['3362737', 'HP', '250 G6', 'Notebook', '15.6', 'Full HD 1920x1080', 'Intel Core i5 7200U 2.5GHz', '8GB', '256GB SSD', 'Intel HD Graphics 620', 'No OS', '1.86kg', 575]\nNone\n"
     ]
    }
   ],
   "source": [
    "check_2 = Inventory('laptops.csv')\n",
    "# Test on a match\n",
    "print(check_2.get_laptop_from_id(3362737))\n",
    "# Test on a non-match\n",
    "print(check_2.get_laptop_from_id(3362736))"
   ]
  },
  {
   "cell_type": "code",
   "execution_count": 8,
   "metadata": {},
   "outputs": [],
   "source": [
    "# 3rd Inventory class \n",
    "# Add data pre-processing to __init__()\n",
    "# Improve ID lookup function time complexity from O(R) to O(1) by\n",
    "# Pre-processing data from list to dictionary\n",
    "# Dictionary is chosen over set as need to also retrieve remaining row info\n",
    "\n",
    "class Inventory():\n",
    "    import csv\n",
    "    \n",
    "    def __init__(self, csv_filename, encoding = 'utf8'):\n",
    "        \n",
    "        # Open file as list of lists\n",
    "        with open(csv_filename) as file:\n",
    "            master = list(csv.reader(file))\n",
    "            self.header = master[0]\n",
    "            self.rows = master[1:]\n",
    "            \n",
    "            # Price from str to int\n",
    "            for row in self.rows:\n",
    "                row[12] = int(row[12])\n",
    "        \n",
    "        #Preprocess data into dict with laptop id as key\n",
    "        self.id_to_row = {}\n",
    "        for row in self.rows:\n",
    "            self.id_to_row.update({row[0]: row[1:]})\n",
    "    \n",
    "    def get_laptop_from_id(self, laptop_id):\n",
    "        if type(laptop_id) == int:\n",
    "            laptop_id = str(laptop_id)\n",
    "        for row in self.rows:\n",
    "            if row[0] == laptop_id:\n",
    "                return row\n",
    "    \n",
    "    def get_laptop_from_id_fast(self, laptop_id):\n",
    "        if type(laptop_id) != str:\n",
    "            laptop_id = str(laptop_id)\n",
    "            \n",
    "        if laptop_id in self.id_to_row:\n",
    "            return self.id_to_row[laptop_id]"
   ]
  },
  {
   "cell_type": "code",
   "execution_count": 9,
   "metadata": {},
   "outputs": [
    {
     "output_type": "stream",
     "name": "stdout",
     "text": [
      "['HP', '250 G6', 'Notebook', '15.6', 'Full HD 1920x1080', 'Intel Core i5 7200U 2.5GHz', '8GB', '256GB SSD', 'Intel HD Graphics 620', 'No OS', '1.86kg', 575]\nNone\n"
     ]
    }
   ],
   "source": [
    "check_3 = Inventory('laptops.csv')\n",
    "print(check_3.get_laptop_from_id_fast(3362737))\n",
    "print(check_3.get_laptop_from_id_fast('3362736'))"
   ]
  },
  {
   "cell_type": "code",
   "execution_count": 10,
   "metadata": {},
   "outputs": [
    {
     "output_type": "stream",
     "name": "stdout",
     "text": [
      "Time without id dictionary: 0.58\nTime with id dictionary: 0.0\nTimes faster with dictionary: 583\n"
     ]
    }
   ],
   "source": [
    "# Measure execution times of: \n",
    "#   get_laptop_from_id and get_laptop_from_id_fast \n",
    "import time, random\n",
    "ids = [str(random.randint(9999999, 10000000)) for _ in range(10001)]\n",
    "check_4 = Inventory('laptops.csv')\n",
    "\n",
    "total_time_no_dict = 0\n",
    "for i in ids:\n",
    "    start = time.time()\n",
    "    check_4.get_laptop_from_id(i)\n",
    "    end = time.time()\n",
    "    run_t = end - start\n",
    "    total_time_no_dict += run_t\n",
    "\n",
    "total_time_dict = 0\n",
    "for i in ids:\n",
    "    start = time.time()\n",
    "    check_4.get_laptop_from_id_fast(i)\n",
    "    end = time.time()\n",
    "    run_t = end - start\n",
    "    total_time_dict += run_t\n",
    "    \n",
    "print('Time without id dictionary:', round(total_time_no_dict, 2))\n",
    "print('Time with id dictionary:', round(total_time_dict, 2))\n",
    "print('Times faster with dictionary:', round(total_time_no_dict / total_time_dict))"
   ]
  },
  {
   "cell_type": "code",
   "execution_count": 11,
   "metadata": {},
   "outputs": [],
   "source": [
    "# 4th Inventory class \n",
    "# Add check_promotion_dollars() method\n",
    "# Method, given dollar amount, checks if can purchase up to two laptops\n",
    "\n",
    "class Inventory():\n",
    "    import csv\n",
    "    \n",
    "    def __init__(self, csv_filename, encoding = 'utf8'):\n",
    "        \n",
    "        # Open file as list of lists\n",
    "        with open(csv_filename) as file:\n",
    "            master = list(csv.reader(file))\n",
    "            self.header = master[0]\n",
    "            self.rows = master[1:]\n",
    "            \n",
    "            # Price from str to int\n",
    "            for row in self.rows:\n",
    "                row[12] = int(row[12])\n",
    "        \n",
    "        #Preprocess data into dict with laptop id as key\n",
    "        self.id_to_row = {}\n",
    "        for row in self.rows:\n",
    "            self.id_to_row.update({row[0]: row[1:]})\n",
    "    \n",
    "    # Search every datapoint for id match\n",
    "    def get_laptop_from_id(self, laptop_id):\n",
    "        if type(laptop_id) == int:\n",
    "            laptop_id = str(laptop_id)\n",
    "        for row in self.rows:\n",
    "            if row[0] == laptop_id:\n",
    "                return row\n",
    "    \n",
    "    # Search self.id_to_row dictionary keys\n",
    "    def get_laptop_from_id_fast(self, laptop_id):\n",
    "        if type(laptop_id) != str:\n",
    "            laptop_id = str(laptop_id)\n",
    "            \n",
    "        if laptop_id in self.id_to_row:\n",
    "            return self.id_to_row[laptop_id]\n",
    "    \n",
    "    # Test for ability to purchase two laptops given dollar amount\n",
    "    def check_promotion_dollars(self, dollars):\n",
    "        for row in self.rows:\n",
    "            if row[12] == dollars:\n",
    "                return True\n",
    "            \n",
    "        for row in self.rows:\n",
    "            for next_row in self.rows:\n",
    "                if (next_row[12] + row[12]) == dollars:\n",
    "                    return True\n",
    "        return False"
   ]
  },
  {
   "cell_type": "code",
   "execution_count": 12,
   "metadata": {},
   "outputs": [
    {
     "output_type": "stream",
     "name": "stdout",
     "text": [
      "Can $1000 buy 2 laptops: True\n",
      "Can $442 buy 2 laptops: False\n"
     ]
    }
   ],
   "source": [
    "check_5 = Inventory('laptops.csv')\n",
    "print('Can $1000 buy 2 laptops:', check_5.check_promotion_dollars(1000))\n",
    "print('Can $442 buy 2 laptops:', check_5.check_promotion_dollars(442))"
   ]
  },
  {
   "cell_type": "code",
   "execution_count": 13,
   "metadata": {},
   "outputs": [],
   "source": [
    "# 5th Inventory class \n",
    "# Add faster check_promotion_dollars method\n",
    "class Inventory():\n",
    "    import csv\n",
    "    \n",
    "    def __init__(self, csv_filename, encoding = 'utf8'):\n",
    "        \n",
    "        # Open file as list of lists\n",
    "        with open(csv_filename) as file:\n",
    "            master = list(csv.reader(file))\n",
    "            self.header = master[0]\n",
    "            self.rows = master[1:]\n",
    "            \n",
    "            # Price from str to int\n",
    "            for row in self.rows:\n",
    "                row[12] = int(row[12])\n",
    "        \n",
    "        # Preprocess data into dict with laptop id as key\n",
    "        self.id_to_row = {}\n",
    "        for row in self.rows:\n",
    "            self.id_to_row.update({row[0]: row[1:]})\n",
    "            \n",
    "        # Preprocess price data into set\n",
    "        self.prices = set()\n",
    "        for row in self.rows:\n",
    "            self.prices.add(row[12])\n",
    "    \n",
    "    # Search every datapoint for id match\n",
    "    def get_laptop_from_id(self, laptop_id):\n",
    "        if type(laptop_id) == int:\n",
    "            laptop_id = str(laptop_id)\n",
    "        for row in self.rows:\n",
    "            if row[0] == laptop_id:\n",
    "                return row\n",
    "    \n",
    "    # Search self.id_to_row dictionary keys\n",
    "    def get_laptop_from_id_fast(self, laptop_id):\n",
    "        if type(laptop_id) != str:\n",
    "            laptop_id = str(laptop_id)\n",
    "            \n",
    "        if laptop_id in self.id_to_row:\n",
    "            return self.id_to_row[laptop_id]\n",
    "    \n",
    "    # Test for ability to purchase two laptops given dollar amount\n",
    "    def check_promotion_dollars(self, dollars):\n",
    "        for row in self.rows:\n",
    "            if row[12] == dollars:\n",
    "                return True\n",
    "        \n",
    "        for row in self.rows:\n",
    "            for next_row in self.rows:\n",
    "                if (next_row[12] + row[12]) == dollars:\n",
    "                    return True\n",
    "        return False\n",
    "    \n",
    "    # Test for ability to purchase two laptops given dollar amount using price set\n",
    "    def check_promotion_dollars_fast(self, dollars):\n",
    "        if dollars in self.prices:\n",
    "            return True\n",
    "        \n",
    "        for price in self.prices:\n",
    "            for next_price in self.prices:\n",
    "                if (price + next_price) == dollars:\n",
    "                    return True\n",
    "        return False"
   ]
  },
  {
   "cell_type": "code",
   "execution_count": 14,
   "metadata": {},
   "outputs": [
    {
     "output_type": "stream",
     "name": "stdout",
     "text": [
      "Can $1000 buy 2 laptops: True\nCan $442 buy 2 laptops: False\n"
     ]
    }
   ],
   "source": [
    "check_6 = Inventory('laptops.csv')\n",
    "print('Can $1000 buy 2 laptops:', check_6.check_promotion_dollars_fast(1000))\n",
    "print('Can $442 buy 2 laptops:', check_6.check_promotion_dollars_fast(442))"
   ]
  },
  {
   "cell_type": "code",
   "execution_count": 15,
   "metadata": {},
   "outputs": [
    {
     "output_type": "stream",
     "name": "stdout",
     "text": [
      "Time without price set: 22.92\nTime with price set: 3.11\nTimes faster with price set: 7.5\n"
     ]
    }
   ],
   "source": [
    "# Measure execution times of check_promotion_dollars and check_promotion_dollars_fast\n",
    "import time, random\n",
    "prices = [str(random.randint(100, 5000)) for _ in range(101)]\n",
    "check_7 = Inventory('laptops.csv')\n",
    "\n",
    "total_time_no_set = 0\n",
    "for i in prices:\n",
    "    start = time.time()\n",
    "    check_7.check_promotion_dollars(i)\n",
    "    end = time.time()\n",
    "    run_t = end - start\n",
    "    total_time_no_set += run_t\n",
    "\n",
    "total_time_set = 0\n",
    "for i in prices:\n",
    "    start = time.time()\n",
    "    check_7.check_promotion_dollars_fast(i)\n",
    "    end = time.time()\n",
    "    run_t = end - start\n",
    "    total_time_set += run_t\n",
    "    \n",
    "print('Time without price set:', round(total_time_no_set, 2))\n",
    "print('Time with price set:', round(total_time_set, 2))\n",
    "print('Times faster with price set:', round(total_time_no_set / total_time_set)+0.5)"
   ]
  },
  {
   "cell_type": "code",
   "execution_count": 16,
   "metadata": {},
   "outputs": [],
   "source": [
    "# 6th Inventory class\n",
    "# Help customer find all laptops given budget of D dollars (write method to answer query: Given budget, find all laptops)\n",
    "# Sort all laptops by price to then use binary search to find first laptop in the sorted list with a price larger than D\n",
    "def row_price(row):\n",
    "    return row[-1]\n",
    "\n",
    "class Inventory():                    \n",
    "    \n",
    "    def __init__(self, csv_filename):\n",
    "        with open(csv_filename) as f: \n",
    "            reader = csv.reader(f)\n",
    "            rows = list(reader)\n",
    "        self.header = rows[0]        \n",
    "        self.rows = rows[1:]\n",
    "        for row in self.rows:              \n",
    "            row[-1] = int(row[-1])\n",
    "        self.id_to_row = {}                        \n",
    "        for row in self.rows:                       \n",
    "            self.id_to_row[row[0]] = row\n",
    "        self.prices = set()                          \n",
    "        for row in self.rows:                        \n",
    "            self.prices.add(row[-1])\n",
    "        self.rows_by_price = sorted(self.rows, key=row_price)\n",
    "    \n",
    "    def get_laptop_from_id(self, laptop_id):\n",
    "        for row in self.rows:                 \n",
    "            if row[0] == laptop_id:\n",
    "                return row\n",
    "        return None   \n",
    "    \n",
    "    def get_laptop_from_id_fast(self, laptop_id):  \n",
    "        if laptop_id in self.id_to_row:           \n",
    "            return self.id_to_row[laptop_id]\n",
    "        return None\n",
    "\n",
    "    def check_promotion_dollars(self, dollars):    \n",
    "        for row in self.rows:                   \n",
    "            if row[-1] == dollars:\n",
    "                return True\n",
    "        for row1 in self.rows:                  \n",
    "            for row2 in self.rows:\n",
    "                if row1[-1] + row2[-1] == dollars:\n",
    "                    return True\n",
    "        return False                        \n",
    "    \n",
    "    def check_promotion_dollars_fast(self, dollars):\n",
    "        if dollars in self.prices:                   \n",
    "            return True\n",
    "        for price in self.prices:                    \n",
    "            if dollars - price in self.prices:\n",
    "                return True\n",
    "        return False                                \n",
    "    \n",
    "    def find_laptop_with_price(self, target_price):\n",
    "        range_start = 0                                   \n",
    "        range_end = len(self.rows_by_price) - 1                       \n",
    "        while range_start < range_end:\n",
    "            range_middle = (range_end + range_start) // 2  \n",
    "            value = self.rows_by_price[range_middle][-1]\n",
    "            if value == target_price:                            \n",
    "                return range_middle                        \n",
    "            elif value < target_price:                           \n",
    "                range_start = range_middle + 1             \n",
    "            else:                                          \n",
    "                range_end = range_middle - 1 \n",
    "        if self.rows_by_price[range_start][-1] != target_price:                  \n",
    "            return -1                                      \n",
    "        return range_start\n",
    "    \n",
    "    def find_first_laptop_more_expensive(self, target_price):\n",
    "        range_start = 0                                   \n",
    "        range_end = len(self.rows_by_price) - 1                   \n",
    "\n",
    "        while range_start < range_end:\n",
    "            range_middle = (range_end + range_start) // 2  \n",
    "            price = self.rows_by_price[range_middle][-1]\n",
    "            \n",
    "            if price > target_price:\n",
    "                range_end = range_middle\n",
    "            else:\n",
    "                range_start = range_middle + 1\n",
    "        \n",
    "        if self.rows_by_price[range_start][-1] <= target_price:                  \n",
    "            return -1                                   \n",
    "        return range_start"
   ]
  },
  {
   "cell_type": "code",
   "execution_count": 17,
   "metadata": {},
   "outputs": [
    {
     "output_type": "stream",
     "name": "stdout",
     "text": [
      "First laptop costing > $1000: ['4910469', 'HP', '17-bs000nv I3', 'Notebook', '17.3', 'IPS Panel Full HD 1920x1080', 'Intel Core i3 6006U 2GHz', '4GB', '256GB SSD', 'AMD Radeon R5 520', 'Windows 10', '2.5kg', '699']\n\n\nFirst laptop costing > $683: ['9548081', 'Dell', 'Precision M5520', 'Workstation', '15.6', '4K Ultra HD / Touchscreen 3840x2160', 'Intel Core i7 7700HQ 2.8GHz', '8GB', '256GB SSD', 'Nvidia Quadro M1200', 'Windows 10', '1.78kg', '2712']\n"
     ]
    }
   ],
   "source": [
    "check_8 = Inventory('laptops.csv')\n",
    "print('First laptop costing > $1000:', rows[check_8.find_first_laptop_more_expensive(1000)])\n",
    "print('\\n')\n",
    "print('First laptop costing > $683:', rows[check_8.find_first_laptop_more_expensive(683)])"
   ]
  },
  {
   "cell_type": "markdown",
   "metadata": {},
   "source": [
    "__Conclusions__\n",
    "\n",
    "In this project, three functionalities were created:\n",
    "\n",
    "- Looking up laptops by their ID number\n",
    "- Seeing how many laptops a customer could afford given their budget\n",
    "- Determining the highest priced laptop at which the customer could not afford; determining all of the laptops within the customer's budget\n",
    "\n",
    "The three built-in Python modules used were: csv, time, and random\n",
    "\n",
    "In this project, data pre-processing was used to significantly improve the time efficiency of the methods."
   ]
  }
 ],
 "metadata": {
  "kernelspec": {
   "name": "python388jvsc74a57bd0285748564fcdcdbbf647096481a5d5060e0d41cdaea8456b2fa7a6e3f94738ff",
   "display_name": "Python 3.8.8 64-bit"
  },
  "language_info": {
   "codemirror_mode": {
    "name": "ipython",
    "version": 3
   },
   "file_extension": ".py",
   "mimetype": "text/x-python",
   "name": "python",
   "nbconvert_exporter": "python",
   "pygments_lexer": "ipython3",
   "version": "3.8.8-final"
  },
  "metadata": {
   "interpreter": {
    "hash": "285748564fcdcdbbf647096481a5d5060e0d41cdaea8456b2fa7a6e3f94738ff"
   }
  }
 },
 "nbformat": 4,
 "nbformat_minor": 2
}