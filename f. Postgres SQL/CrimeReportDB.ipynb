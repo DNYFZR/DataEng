{
 "cells": [
  {
   "cell_type": "markdown",
   "metadata": {},
   "source": [
    "---\n",
    "### Building a database for crime reports\n",
    "---"
   ]
  },
  {
   "cell_type": "markdown",
   "metadata": {},
   "source": [
    "__Data:__ boston.csv\n",
    "\n",
    "__Aim:__ To create a database (crimes_db) with a table (boston_crimes), with appropriate datatypes for storing the data from the boston.csv file. \n",
    "\n",
    "- The table will be created inside a schema named crimes, including creating the readonly and readwrite groups with the appropriate privileges. "
   ]
  },
  {
   "cell_type": "code",
   "execution_count": 1,
   "metadata": {
    "collapsed": true
   },
   "outputs": [],
   "source": [
    "import psycopg2 as sql, csv\n",
    "\n",
    "basefile = 'boston.csv'"
   ]
  },
  {
   "cell_type": "markdown",
   "metadata": {},
   "source": [
    "__Create the Database__"
   ]
  },
  {
   "cell_type": "code",
   "execution_count": 2,
   "metadata": {
    "collapsed": false
   },
   "outputs": [],
   "source": [
    "conn = sql.connect(dbname = 'dq', user = 'dq')\n",
    "conn.autocommit = True\n",
    "cu = conn.cursor()\n",
    "\n",
    "# To allow the kernel to re-run the build\n",
    "cu.execute('''DROP DATABASE crimes_db;''')\n",
    "\n",
    "cu.execute('''DROP USER readonly;''')\n",
    "cu.execute('''DROP USER readwrite;''')\n",
    "\n",
    "cu.execute('''DROP USER data_analyst;''')\n",
    "cu.execute('''DROP USER data_scientist;''')\n",
    "\n",
    "# Create the (new) database\n",
    "cu.execute('''CREATE DATABASE crimes_db;''')\n",
    "\n",
    "conn.close()"
   ]
  },
  {
   "cell_type": "code",
   "execution_count": 3,
   "metadata": {
    "collapsed": true
   },
   "outputs": [],
   "source": [
    "conn = sql.connect(dbname = 'crimes_db', user = 'dq')\n",
    "cu = conn.cursor()\n",
    "cu.execute('''\n",
    "    CREATE SCHEMA crimes;\n",
    "''')"
   ]
  },
  {
   "cell_type": "markdown",
   "metadata": {},
   "source": [
    "__Import CSV and gather column names / sample data__"
   ]
  },
  {
   "cell_type": "code",
   "execution_count": 4,
   "metadata": {
    "collapsed": false
   },
   "outputs": [],
   "source": [
    "table = list()\n",
    "with open(basefile, 'r') as f:\n",
    "    read = csv.reader(f)\n",
    "    for row in read:\n",
    "        table.append(row)\n",
    "col_headers = table[0]\n",
    "first_row = table[1]"
   ]
  },
  {
   "cell_type": "code",
   "execution_count": 5,
   "metadata": {
    "collapsed": false
   },
   "outputs": [
    {
     "name": "stdout",
     "output_type": "stream",
     "text": [
      "['incident_number', 'offense_code', 'description', 'date', 'day_of_the_week', 'lat', 'long'] \n",
      " ['1', '619', 'LARCENY ALL OTHERS', '2018-09-02', 'Sunday', '42.35779134', '-71.13937053']\n"
     ]
    }
   ],
   "source": [
    "print(col_headers, '\\n', first_row)"
   ]
  },
  {
   "cell_type": "markdown",
   "metadata": {},
   "source": [
    "__Create Auxiliary Function__"
   ]
  },
  {
   "cell_type": "code",
   "execution_count": 6,
   "metadata": {
    "collapsed": false
   },
   "outputs": [],
   "source": [
    "def get_col_set(file, col_index):\n",
    "    col_data = set()\n",
    "    \n",
    "    with open(file, 'r') as f:\n",
    "        next(f) # skip header row\n",
    "        reader = csv.reader(f)\n",
    "        for row in reader:\n",
    "            col_data.add(row[col_index])\n",
    "\n",
    "    return col_data"
   ]
  },
  {
   "cell_type": "code",
   "execution_count": 7,
   "metadata": {
    "collapsed": false
   },
   "outputs": [
    {
     "name": "stdout",
     "output_type": "stream",
     "text": [
      "incident_number 298329\n",
      "offense_code 219\n",
      "description 239\n",
      "date 1177\n",
      "day_of_the_week 7\n",
      "lat 18177\n",
      "long 18177\n"
     ]
    }
   ],
   "source": [
    "for i in range(0,7):\n",
    "    print(col_headers[i], len(get_col_set(basefile, i)))"
   ]
  },
  {
   "cell_type": "markdown",
   "metadata": {},
   "source": [
    "__Finding Max Length__"
   ]
  },
  {
   "cell_type": "code",
   "execution_count": 8,
   "metadata": {
    "collapsed": false
   },
   "outputs": [
    {
     "data": {
      "text/plain": [
       "['incident_number',\n",
       " 'offense_code',\n",
       " 'description',\n",
       " 'date',\n",
       " 'day_of_the_week',\n",
       " 'lat',\n",
       " 'long']"
      ]
     },
     "execution_count": 8,
     "metadata": {},
     "output_type": "execute_result"
    }
   ],
   "source": [
    "col_headers"
   ]
  },
  {
   "cell_type": "code",
   "execution_count": 9,
   "metadata": {
    "collapsed": false
   },
   "outputs": [
    {
     "name": "stdout",
     "output_type": "stream",
     "text": [
      "RECOVERED - MV RECOVERED IN BOSTON (STOLEN OUTSIDE BOSTON) : 58\n"
     ]
    }
   ],
   "source": [
    "max_length = 0\n",
    "max_entry = 0\n",
    "for i in get_col_set(basefile, 2):\n",
    "    if len(i) > max_length:\n",
    "        max_length = len(i)\n",
    "        max_entry = i\n",
    "print(max_entry,':', max_length)"
   ]
  },
  {
   "cell_type": "markdown",
   "metadata": {},
   "source": [
    "__Create the Table__"
   ]
  },
  {
   "cell_type": "code",
   "execution_count": 10,
   "metadata": {
    "collapsed": false
   },
   "outputs": [
    {
     "name": "stdout",
     "output_type": "stream",
     "text": [
      "['incident_number', 'offense_code', 'description', 'date', 'day_of_the_week', 'lat', 'long'] \n",
      " ['1', '619', 'LARCENY ALL OTHERS', '2018-09-02', 'Sunday', '42.35779134', '-71.13937053']\n"
     ]
    }
   ],
   "source": [
    "print(\n",
    "    col_headers,\n",
    "    '\\n',\n",
    "    first_row\n",
    ")"
   ]
  },
  {
   "cell_type": "markdown",
   "metadata": {},
   "source": [
    "Columns with a low number of distinct values tend to be good candidates for enumerated types. Another important aspect is to know the longest word in any column containing textual data.\n",
    "\n",
    "We will use the following types:\n",
    "\n",
    "    Incident No - serial - PRIMARY KEY\n",
    "    Offence Code - varchar(4)\n",
    "    Description - varchar(100) - increase to allow for future changes\n",
    "    Date - date\n",
    "    Day of week - enumerate\n",
    "    Lat - decimal(10, 8) \n",
    "    Long - decimal(11,8) "
   ]
  },
  {
   "cell_type": "code",
   "execution_count": 11,
   "metadata": {
    "collapsed": false
   },
   "outputs": [
    {
     "name": "stdout",
     "output_type": "stream",
     "text": [
      "4 3831\n"
     ]
    }
   ],
   "source": [
    "offense_code_values = get_col_set(basefile, 1)\n",
    "max_length = 0\n",
    "max_value = 0 \n",
    "for row in offense_code_values:\n",
    "    if len(row) > max_length:\n",
    "        max_length = len(row)\n",
    "    if int(row) > max_value:\n",
    "        max_value = int(row)\n",
    "print(max_length, max_value)"
   ]
  },
  {
   "cell_type": "code",
   "execution_count": 12,
   "metadata": {
    "collapsed": false
   },
   "outputs": [
    {
     "name": "stdout",
     "output_type": "stream",
     "text": [
      "8 8\n"
     ]
    }
   ],
   "source": [
    "def get_scale(col_value_set):    \n",
    "    max_scale = 0\n",
    "    for row in col_value_set:        \n",
    "        scale = 0\n",
    "        for idx, r in enumerate(row):            \n",
    "            if r == \".\":\n",
    "                scale = len(row)- idx - 1        \n",
    "        if scale > max_scale:\n",
    "            max_scale = scale\n",
    "    return(max_scale)\n",
    "\n",
    "lat_values = get_col_set(basefile, 5)\n",
    "long_values =  get_col_set(basefile, 6)\n",
    "lat_max_scale = get_scale(lat_values)\n",
    "long_max_scale = get_scale(long_values)\n",
    "print(lat_max_scale, long_max_scale)"
   ]
  },
  {
   "cell_type": "markdown",
   "metadata": {},
   "source": [
    "Create boston_crimes table inside the crimes schema with the appropriate data type for each column."
   ]
  },
  {
   "cell_type": "code",
   "execution_count": 13,
   "metadata": {
    "collapsed": false
   },
   "outputs": [],
   "source": [
    "cu.execute(\"\"\"CREATE TYPE day_of_the_week_enum AS ENUM(\n",
    "'Sunday','Monday','Tuesday','Wednesday','Thursday','Friday','Saturday');\"\"\")\n",
    "\n",
    "cu.execute('''\n",
    "           CREATE TABLE crimes.boston_crimes(\n",
    "           incident_number serial PRIMARY KEY,\n",
    "           offence_code varchar(4),\n",
    "           description varchar(100),\n",
    "           date date,\n",
    "           day_of_the_week day_of_the_week_enum,\n",
    "           lat decimal(10,8),\n",
    "           long decimal(11,8)\n",
    "           );\n",
    "           ''')\n",
    "conn.commit()"
   ]
  },
  {
   "cell_type": "code",
   "execution_count": 14,
   "metadata": {
    "collapsed": false
   },
   "outputs": [
    {
     "data": {
      "text/plain": [
       "(Column(name='incident_number', type_code=23, display_size=None, internal_size=4, precision=None, scale=None, null_ok=None),\n",
       " Column(name='offence_code', type_code=1043, display_size=None, internal_size=4, precision=None, scale=None, null_ok=None),\n",
       " Column(name='description', type_code=1043, display_size=None, internal_size=100, precision=None, scale=None, null_ok=None),\n",
       " Column(name='date', type_code=1082, display_size=None, internal_size=4, precision=None, scale=None, null_ok=None),\n",
       " Column(name='day_of_the_week', type_code=16623, display_size=None, internal_size=4, precision=None, scale=None, null_ok=None),\n",
       " Column(name='lat', type_code=1700, display_size=None, internal_size=10, precision=10, scale=8, null_ok=None),\n",
       " Column(name='long', type_code=1700, display_size=None, internal_size=11, precision=11, scale=8, null_ok=None))"
      ]
     },
     "execution_count": 14,
     "metadata": {},
     "output_type": "execute_result"
    }
   ],
   "source": [
    "#checking the result\n",
    "cu.execute(\"SELECT * FROM crimes.boston_crimes LIMIT 0;\")\n",
    "cu.description"
   ]
  },
  {
   "cell_type": "markdown",
   "metadata": {},
   "source": [
    "__Loading the Data__"
   ]
  },
  {
   "cell_type": "code",
   "execution_count": 15,
   "metadata": {
    "collapsed": false
   },
   "outputs": [],
   "source": [
    "with open(basefile, 'r') as f:\n",
    "    cu.copy_expert(\"COPY crimes.boston_crimes FROM STDIN CSV HEADER;\", f)\n",
    "\n",
    "conn.commit()"
   ]
  },
  {
   "cell_type": "code",
   "execution_count": 16,
   "metadata": {
    "collapsed": false
   },
   "outputs": [
    {
     "data": {
      "text/plain": [
       "[(1,\n",
       "  '619',\n",
       "  'LARCENY ALL OTHERS',\n",
       "  datetime.date(2018, 9, 2),\n",
       "  'Sunday',\n",
       "  Decimal('42.35779134'),\n",
       "  Decimal('-71.13937053')),\n",
       " (2,\n",
       "  '1402',\n",
       "  'VANDALISM',\n",
       "  datetime.date(2018, 8, 21),\n",
       "  'Tuesday',\n",
       "  Decimal('42.30682138'),\n",
       "  Decimal('-71.06030035')),\n",
       " (3,\n",
       "  '3410',\n",
       "  'TOWED MOTOR VEHICLE',\n",
       "  datetime.date(2018, 9, 3),\n",
       "  'Monday',\n",
       "  Decimal('42.34658879'),\n",
       "  Decimal('-71.07242943')),\n",
       " (4,\n",
       "  '3114',\n",
       "  'INVESTIGATE PROPERTY',\n",
       "  datetime.date(2018, 9, 3),\n",
       "  'Monday',\n",
       "  Decimal('42.33418175'),\n",
       "  Decimal('-71.07866441')),\n",
       " (5,\n",
       "  '3114',\n",
       "  'INVESTIGATE PROPERTY',\n",
       "  datetime.date(2018, 9, 3),\n",
       "  'Monday',\n",
       "  Decimal('42.27536542'),\n",
       "  Decimal('-71.09036101'))]"
      ]
     },
     "execution_count": 16,
     "metadata": {},
     "output_type": "execute_result"
    }
   ],
   "source": [
    "# Check\n",
    "cu.execute('SELECT * FROM crimes.boston_crimes LIMIT 5;')\n",
    "cu.fetchall()"
   ]
  },
  {
   "cell_type": "markdown",
   "metadata": {},
   "source": [
    "__Manage Access Privileges__"
   ]
  },
  {
   "cell_type": "code",
   "execution_count": 17,
   "metadata": {
    "collapsed": false
   },
   "outputs": [],
   "source": [
    "cu.execute('REVOKE ALL ON SCHEMA public FROM public;')\n",
    "cu.execute('REVOKE ALL ON DATABASE crimes_db FROM public;')\n",
    "conn.commit()"
   ]
  },
  {
   "cell_type": "markdown",
   "metadata": {},
   "source": [
    "__Create User Groups__"
   ]
  },
  {
   "cell_type": "markdown",
   "metadata": {},
   "source": [
    "1. ReadOnly - Data Analysts etc, access to view data only.\n",
    "2. ReadWrite - Data Scientists, acess to view and modify the data, including add more columns / rows.\n",
    "3. Admin - Data Engineer, full control over infrastructure of database (current account)"
   ]
  },
  {
   "cell_type": "code",
   "execution_count": 18,
   "metadata": {
    "collapsed": false
   },
   "outputs": [],
   "source": [
    "cu.execute('''CREATE GROUP readonly NOLOGIN;''')\n",
    "cu.execute('''CREATE GROUP readwrite NOLOGIN;''')\n",
    "\n",
    "cu.execute('''GRANT CONNECT ON DATABASE crimes_db to readonly;''')\n",
    "cu.execute('''GRANT CONNECT ON DATABASE crimes_db to readwrite;''')\n",
    "\n",
    "cu.execute('''GRANT USAGE ON SCHEMA crimes to readonly;''')\n",
    "cu.execute('''GRANT USAGE ON SCHEMA crimes to readwrite;''')\n",
    "\n",
    "cu.execute('''GRANT SELECT ON ALL TABLES IN SCHEMA crimes to readonly;''')\n",
    "cu.execute('''GRANT SELECT, INSERT, UPDATE, DELETE ON ALL TABLES IN SCHEMA crimes to readwrite;''')\n",
    "\n",
    "conn.commit()"
   ]
  },
  {
   "cell_type": "code",
   "execution_count": 19,
   "metadata": {
    "collapsed": false
   },
   "outputs": [],
   "source": [
    "cu.execute('''CREATE USER data_analyst WITH PASSWORD 'secret1';''')\n",
    "cu.execute('''GRANT data_analyst TO readonly;''')\n",
    "\n",
    "cu.execute('''CREATE USER data_scientist WITH PASSWORD 'secret2';''')\n",
    "cu.execute('''GRANT data_scientist TO readwrite;''')\n",
    "\n",
    "conn.commit()"
   ]
  },
  {
   "cell_type": "markdown",
   "metadata": {},
   "source": [
    "__Check Privileges__"
   ]
  },
  {
   "cell_type": "code",
   "execution_count": 20,
   "metadata": {
    "collapsed": false
   },
   "outputs": [
    {
     "data": {
      "text/plain": [
       "[('readonly', 'SELECT')]"
      ]
     },
     "execution_count": 20,
     "metadata": {},
     "output_type": "execute_result"
    }
   ],
   "source": [
    "cu.execute(\"\"\"SELECT grantee, privilege_type\n",
    "    FROM information_schema.table_privileges\n",
    "    WHERE grantee = 'readonly';\"\"\")\n",
    "cu.fetchall()"
   ]
  },
  {
   "cell_type": "code",
   "execution_count": 21,
   "metadata": {
    "collapsed": false
   },
   "outputs": [
    {
     "data": {
      "text/plain": [
       "[('readwrite', 'INSERT'),\n",
       " ('readwrite', 'SELECT'),\n",
       " ('readwrite', 'UPDATE'),\n",
       " ('readwrite', 'DELETE')]"
      ]
     },
     "execution_count": 21,
     "metadata": {},
     "output_type": "execute_result"
    }
   ],
   "source": [
    "cu.execute(\"\"\"SELECT grantee, privilege_type\n",
    "    FROM information_schema.table_privileges\n",
    "    WHERE grantee = 'readwrite';\"\"\")\n",
    "cu.fetchall()"
   ]
  },
  {
   "cell_type": "code",
   "execution_count": 22,
   "metadata": {
    "collapsed": false
   },
   "outputs": [
    {
     "data": {
      "text/plain": [
       "[(False, False, False, False)]"
      ]
     },
     "execution_count": 22,
     "metadata": {},
     "output_type": "execute_result"
    }
   ],
   "source": [
    "cu.execute(\"\"\"SELECT rolsuper, rolcanlogin, rolcreaterole, rolcreatedb\n",
    "    FROM pg_roles\n",
    "    WHERE rolname = 'readonly';\"\"\")\n",
    "cu.fetchall()"
   ]
  },
  {
   "cell_type": "code",
   "execution_count": 23,
   "metadata": {
    "collapsed": false
   },
   "outputs": [
    {
     "data": {
      "text/plain": [
       "[(False, False, False, False)]"
      ]
     },
     "execution_count": 23,
     "metadata": {},
     "output_type": "execute_result"
    }
   ],
   "source": [
    "cu.execute(\"\"\"SELECT rolsuper, rolcanlogin, rolcreaterole, rolcreatedb\n",
    "    FROM pg_roles\n",
    "    WHERE rolname = 'readwrite';\"\"\")\n",
    "cu.fetchall()"
   ]
  },
  {
   "cell_type": "code",
   "execution_count": 24,
   "metadata": {
    "collapsed": false
   },
   "outputs": [
    {
     "data": {
      "text/plain": [
       "[(False, True, False, False, '********')]"
      ]
     },
     "execution_count": 24,
     "metadata": {},
     "output_type": "execute_result"
    }
   ],
   "source": [
    "cu.execute(\"\"\"SELECT rolsuper, rolcanlogin, rolcreaterole, rolcreatedb, rolpassword\n",
    "    FROM pg_roles\n",
    "    WHERE rolname = 'data_analyst';\"\"\")\n",
    "cu.fetchall()"
   ]
  },
  {
   "cell_type": "code",
   "execution_count": 25,
   "metadata": {
    "collapsed": false
   },
   "outputs": [
    {
     "data": {
      "text/plain": [
       "[(False, True, False, False, '********')]"
      ]
     },
     "execution_count": 25,
     "metadata": {},
     "output_type": "execute_result"
    }
   ],
   "source": [
    "cu.execute(\"\"\"SELECT rolsuper, rolcanlogin, rolcreaterole, rolcreatedb, rolpassword\n",
    "    FROM pg_roles\n",
    "    WHERE rolname = 'data_scientist';\"\"\")\n",
    "cu.fetchall()"
   ]
  },
  {
   "cell_type": "code",
   "execution_count": 26,
   "metadata": {
    "collapsed": false
   },
   "outputs": [
    {
     "data": {
      "text/plain": [
       "[(True, True, True, True, '********')]"
      ]
     },
     "execution_count": 26,
     "metadata": {},
     "output_type": "execute_result"
    }
   ],
   "source": [
    "cu.execute(\"\"\"SELECT rolsuper, rolcanlogin, rolcreaterole, rolcreatedb, rolpassword\n",
    "    FROM pg_roles\n",
    "    WHERE rolname = 'dq';\"\"\")\n",
    "cu.fetchall()"
   ]
  },
  {
   "cell_type": "markdown",
   "metadata": {},
   "source": [
    "After cheking pg_roles and information_schema.table_privileges tables, it appears that:\n",
    "\n",
    "- Table privileges are correctly granted for each group.\n",
    "- Database privileges have been correctly limited for each group.\n",
    "\n",
    "The connection can now be closed"
   ]
  },
  {
   "cell_type": "code",
   "execution_count": 27,
   "metadata": {
    "collapsed": true
   },
   "outputs": [],
   "source": [
    "conn.close()"
   ]
  }
 ],
 "metadata": {
  "kernelspec": {
   "display_name": "Python 3",
   "language": "python",
   "name": "python3"
  },
  "language_info": {
   "codemirror_mode": {
    "name": "ipython",
    "version": 3
   },
   "file_extension": ".py",
   "mimetype": "text/x-python",
   "name": "python",
   "nbconvert_exporter": "python",
   "pygments_lexer": "ipython3",
   "version": "3.4.3"
  }
 },
 "nbformat": 4,
 "nbformat_minor": 2
}
