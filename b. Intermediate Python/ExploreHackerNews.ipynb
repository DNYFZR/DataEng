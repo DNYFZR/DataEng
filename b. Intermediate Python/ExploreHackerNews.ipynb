{
 "cells": [
  {
   "cell_type": "markdown",
   "metadata": {
    "collapsed": true
   },
   "source": [
    "---\n",
    "#### Hacker News Posts\n",
    "---\n",
    "\n",
    "Below are descriptions of the columns:\n",
    "\n",
    "- id: The unique identifier from Hacker News for the post\n",
    "- title: The title of the post\n",
    "- url: The URL that the posts links to, if it the post has a URL\n",
    "- num_points: The number of points the post acquired, calculated as the total number of upvotes minus the total number of downvotes\n",
    "- num_comments: The number of comments that were made on the post\n",
    "- author: The username of the person who submitted the post\n",
    "- created_at: The date and time at which the post was submitted"
   ]
  },
  {
   "cell_type": "code",
   "execution_count": 1,
   "metadata": {},
   "outputs": [
    {
     "name": "stdout",
     "output_type": "stream",
     "text": [
      "['id', 'title', 'url', 'num_points', 'num_comments', 'author', 'created_at'] \n",
      "\n",
      "['12224879', 'Interactive Dynamic Video', 'http://www.interactivedynamicvideo.com/', '386', '52', 'ne0phyte', '8/4/2016 11:52'] \n",
      "\n",
      "['10975351', 'How to Use Open Source and Shut the Fuck Up at the Same Time', 'http://hueniverse.com/2016/01/26/how-to-use-open-source-and-shut-the-fuck-up-at-the-same-time/', '39', '10', 'josep2', '1/26/2016 19:30'] \n",
      "\n",
      "['11964716', \"Florida DJs May Face Felony for April Fools' Water Joke\", 'http://www.thewire.com/entertainment/2013/04/florida-djs-april-fools-water-joke/63798/', '2', '1', 'vezycash', '6/23/2016 22:20'] \n",
      "\n",
      "['11919867', 'Technology ventures: From Idea to Enterprise', 'https://www.amazon.com/Technology-Ventures-Enterprise-Thomas-Byers/dp/0073523429', '3', '1', 'hswarna', '6/17/2016 0:01'] \n",
      "\n"
     ]
    }
   ],
   "source": [
    "from csv import reader\n",
    "with open('hacker_news.csv') as file:\n",
    "    hn = list(reader(file))\n",
    "    [print(i, '\\n') for i in hn[:5]]"
   ]
  },
  {
   "cell_type": "code",
   "execution_count": 2,
   "metadata": {},
   "outputs": [
    {
     "name": "stdout",
     "output_type": "stream",
     "text": [
      "['12224879', 'Interactive Dynamic Video', 'http://www.interactivedynamicvideo.com/', '386', '52', 'ne0phyte', '8/4/2016 11:52'] \n",
      "\n",
      "['10975351', 'How to Use Open Source and Shut the Fuck Up at the Same Time', 'http://hueniverse.com/2016/01/26/how-to-use-open-source-and-shut-the-fuck-up-at-the-same-time/', '39', '10', 'josep2', '1/26/2016 19:30'] \n",
      "\n",
      "['11964716', \"Florida DJs May Face Felony for April Fools' Water Joke\", 'http://www.thewire.com/entertainment/2013/04/florida-djs-april-fools-water-joke/63798/', '2', '1', 'vezycash', '6/23/2016 22:20'] \n",
      "\n",
      "['11919867', 'Technology ventures: From Idea to Enterprise', 'https://www.amazon.com/Technology-Ventures-Enterprise-Thomas-Byers/dp/0073523429', '3', '1', 'hswarna', '6/17/2016 0:01'] \n",
      "\n",
      "['10301696', 'Note by Note: The Making of Steinway L1037 (2007)', 'http://www.nytimes.com/2007/11/07/movies/07stein.html?_r=0', '8', '2', 'walterbell', '9/30/2015 4:12'] \n",
      "\n"
     ]
    },
    {
     "data": {
      "text/plain": [
       "[None, None, None, None, None]"
      ]
     },
     "execution_count": 2,
     "metadata": {},
     "output_type": "execute_result"
    }
   ],
   "source": [
    "headers = hn[0]\n",
    "hn = hn[1:]\n",
    "[print(i, '\\n') for i in hn[:5]]"
   ]
  },
  {
   "cell_type": "code",
   "execution_count": 3,
   "metadata": {},
   "outputs": [
    {
     "name": "stdout",
     "output_type": "stream",
     "text": [
      "ask: 1744 show: 1162 other 17194\n"
     ]
    }
   ],
   "source": [
    "ask_posts, show_posts, other_posts = [], [], []\n",
    "for i in hn:\n",
    "    title = i[1]\n",
    "    if title.lower().startswith('ask hn'):\n",
    "        ask_posts.append(i)\n",
    "    elif title.lower().startswith('show hn'):\n",
    "        show_posts.append(i)\n",
    "    else:\n",
    "        other_posts.append(i)\n",
    "        \n",
    "print(\n",
    "    'ask:', len(ask_posts),\n",
    "    'show:', len(show_posts),\n",
    "    'other', len(other_posts))"
   ]
  },
  {
   "cell_type": "code",
   "execution_count": 8,
   "metadata": {},
   "outputs": [
    {
     "data": {
      "text/plain": [
       "14.0"
      ]
     },
     "execution_count": 8,
     "metadata": {},
     "output_type": "execute_result"
    }
   ],
   "source": [
    "total_ask_comments = 0\n",
    "for i in ask_posts:\n",
    "    x = int(i[4])\n",
    "    total_ask_comments += x\n",
    "\n",
    "average_ask_comments = total_ask_comments / len(ask_posts)\n",
    "round(average_ask_comments,1)"
   ]
  },
  {
   "cell_type": "code",
   "execution_count": 10,
   "metadata": {},
   "outputs": [
    {
     "data": {
      "text/plain": [
       "10.3"
      ]
     },
     "execution_count": 10,
     "metadata": {},
     "output_type": "execute_result"
    }
   ],
   "source": [
    "total_show_comments = 0\n",
    "for i in show_posts:\n",
    "    x = int(i[4])\n",
    "    total_show_comments += x\n",
    "\n",
    "average_show_comments = total_show_comments / len(show_posts)\n",
    "round(average_show_comments,1)"
   ]
  },
  {
   "cell_type": "code",
   "execution_count": 11,
   "metadata": {},
   "outputs": [
    {
     "data": {
      "text/plain": [
       "26.9"
      ]
     },
     "execution_count": 11,
     "metadata": {},
     "output_type": "execute_result"
    }
   ],
   "source": [
    "total_other_comments = 0\n",
    "for i in other_posts:\n",
    "    x = int(i[4])\n",
    "    total_other_comments += x\n",
    "\n",
    "average_other_comments = total_other_comments / len(other_posts)\n",
    "round(average_other_comments,1)"
   ]
  },
  {
   "cell_type": "markdown",
   "metadata": {},
   "source": [
    "Other posts get the most comments, followed by show then ask. "
   ]
  },
  {
   "cell_type": "code",
   "execution_count": 12,
   "metadata": {},
   "outputs": [],
   "source": [
    "import datetime as dt"
   ]
  },
  {
   "cell_type": "code",
   "execution_count": 13,
   "metadata": {},
   "outputs": [],
   "source": [
    "result_list = []\n",
    "for i in ask_posts:\n",
    "    result_list.append([i[6], int(i[4])])"
   ]
  },
  {
   "cell_type": "code",
   "execution_count": 25,
   "metadata": {},
   "outputs": [
    {
     "name": "stdout",
     "output_type": "stream",
     "text": [
      "posts per hour: {'09': 45, '13': 85, '10': 59, '14': 107, '16': 108, '23': 68, '12': 73, '17': 100, '15': 116, '21': 109, '20': 80, '02': 58, '18': 109, '03': 54, '05': 46, '19': 110, '01': 60, '22': 71, '08': 48, '04': 47, '00': 55, '06': 44, '07': 34, '11': 58}\n",
      "comments per hour: {'09': 251, '13': 1253, '10': 793, '14': 1416, '16': 1814, '23': 543, '12': 687, '17': 1146, '15': 4477, '21': 1745, '20': 1722, '02': 1381, '18': 1439, '03': 421, '05': 464, '19': 1188, '01': 683, '22': 479, '08': 492, '04': 337, '00': 447, '06': 397, '07': 267, '11': 641}\n"
     ]
    }
   ],
   "source": [
    "count_by_hour, comments_by_hour = {}, {}\n",
    "\n",
    "for i in result_list:\n",
    "    d = dt.datetime.strptime(i[0], \"%m/%d/%Y %H:%M\")\n",
    "    h = d.strftime('%H')\n",
    "    if h not in count_by_hour:\n",
    "        count_by_hour[h] = 1\n",
    "        comments_by_hour[h] = i[1]\n",
    "    else:\n",
    "        count_by_hour[h] +=1\n",
    "        comments_by_hour[h] += i[1]\n",
    "        \n",
    "print('posts per hour:', count_by_hour)\n",
    "print('comments per hour:', comments_by_hour)"
   ]
  },
  {
   "cell_type": "code",
   "execution_count": 33,
   "metadata": {},
   "outputs": [],
   "source": [
    "avg_per_hour = []\n",
    "for i in comments_by_hour:\n",
    "    avg_per_hour.append([i ,comments_by_hour[i]/count_by_hour[i]])"
   ]
  },
  {
   "cell_type": "code",
   "execution_count": null,
   "metadata": {},
   "outputs": [],
   "source": [
    "swap_avg_hour = []\n",
    "for hour in comments_by_hour:\n",
    "    swap_avg_hour.append([comments_by_hour[hour]/counts_by_hour[hour], hour])\n",
    "    \n",
    "sorted_swap = sorted(swap_avg_hour, reverse = True)\n",
    "print(sorted_swap)"
   ]
  },
  {
   "cell_type": "code",
   "execution_count": null,
   "metadata": {},
   "outputs": [],
   "source": []
  },
  {
   "cell_type": "code",
   "execution_count": null,
   "metadata": {},
   "outputs": [],
   "source": []
  },
  {
   "cell_type": "code",
   "execution_count": null,
   "metadata": {},
   "outputs": [],
   "source": []
  }
 ],
 "metadata": {
  "kernelspec": {
   "display_name": "Python 3",
   "language": "python",
   "name": "python3"
  },
  "language_info": {
   "codemirror_mode": {
    "name": "ipython",
    "version": 3
   },
   "file_extension": ".py",
   "mimetype": "text/x-python",
   "name": "python",
   "nbconvert_exporter": "python",
   "pygments_lexer": "ipython3",
   "version": "3.8.2"
  }
 },
 "nbformat": 4,
 "nbformat_minor": 2
}
