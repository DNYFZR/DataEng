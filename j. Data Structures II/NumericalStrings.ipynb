{
 "cells": [
  {
   "cell_type": "markdown",
   "metadata": {
    "collapsed": true
   },
   "source": [
    "---\n",
    "####  Evaluating Numerical Expressions\n",
    "---"
   ]
  },
  {
   "cell_type": "markdown",
   "metadata": {},
   "source": [
    "In this project, we will use stacks to implement an algorithm that can evaluate numerical expressions."
   ]
  },
  {
   "cell_type": "code",
   "execution_count": 1,
   "metadata": {},
   "outputs": [],
   "source": [
    "from linked_list import LinkedList "
   ]
  },
  {
   "cell_type": "code",
   "execution_count": 2,
   "metadata": {},
   "outputs": [],
   "source": [
    "class Stack(LinkedList):\n",
    "    def push(self, data):\n",
    "        self.append(data)\n",
    "    \n",
    "    def peek(self):\n",
    "        return self.tail.data\n",
    "    \n",
    "    def pop(self):\n",
    "        ret = self.tail.data\n",
    "        if self.length == 1:\n",
    "            self.head = self.tail = None\n",
    "        else:\n",
    "            self.tail = self.tail.prev\n",
    "            self.tail.next = None\n",
    "        self.length -= 1\n",
    "        return ret"
   ]
  },
  {
   "cell_type": "code",
   "execution_count": 3,
   "metadata": {},
   "outputs": [
    {
     "data": {
      "text/plain": [
       "['This', 'is', 'a', 'Data', 'Engineering', 'course.']"
      ]
     },
     "execution_count": 3,
     "metadata": {},
     "output_type": "execute_result"
    }
   ],
   "source": [
    "def tokenize(string):\n",
    "    return string.split()\n",
    "tokenize('This is a Data Engineering course.')"
   ]
  },
  {
   "cell_type": "code",
   "execution_count": 4,
   "metadata": {},
   "outputs": [],
   "source": [
    "def process_minus(stack):\n",
    "    top = stack.pop()\n",
    "    new_top = stack.pop()\n",
    "    stack.push(new_top - top)\n",
    "    \n",
    "def process_plus(stack):\n",
    "    top = stack.pop()\n",
    "    new_top = stack.pop()\n",
    "    stack.push(new_top + top)\n",
    "    \n",
    "def process_times(stack):\n",
    "    top = stack.pop()\n",
    "    new_top = stack.pop()\n",
    "    stack.push(new_top * top)    \n",
    "    \n",
    "def process_divide(stack):\n",
    "    top = stack.pop()\n",
    "    new_top = stack.pop()\n",
    "    stack.push(new_top / top)\n",
    "    \n",
    "def process_power(stack):\n",
    "    top = stack.pop()\n",
    "    new_top = stack.pop()\n",
    "    stack.push(new_top ** top)"
   ]
  },
  {
   "cell_type": "code",
   "execution_count": 5,
   "metadata": {},
   "outputs": [],
   "source": [
    "def eval_postfix(item):\n",
    "    tokens = tokenize(item)\n",
    "    stack = Stack()\n",
    "    for t in tokens:\n",
    "        if t == '+':\n",
    "            process_plus(stack)\n",
    "        elif t == '-':\n",
    "            process_minus(stack)\n",
    "        elif t == '*':\n",
    "            process_times(stack)\n",
    "        elif t == '/':\n",
    "            process_divide(stack)\n",
    "        elif t == '**':\n",
    "            process_power(stack)\n",
    "        else: # token is not an operator\n",
    "            stack.push(float(t))\n",
    "    return stack.pop()\n",
    " "
   ]
  },
  {
   "cell_type": "code",
   "execution_count": 6,
   "metadata": {},
   "outputs": [
    {
     "name": "stdout",
     "output_type": "stream",
     "text": [
      "Correct answer: True\n"
     ]
    }
   ],
   "source": [
    "expressions = [\n",
    "    \"4 6 -\",\n",
    "    \"4 1 2 9 3 / * + 5 - *\",\n",
    "    \"1 2 + 3 -\",\n",
    "    \"1 2 - 3 +\",\n",
    "    \"10 3 5 * 16 4 - / +\",\n",
    "    \"5 3 4 2 - ** *\",\n",
    "    \"12 2 4 + / 21 *\",\n",
    "    \"1 1 + 2 **\",\n",
    "    \"1 1 2 ** +\"\n",
    "]\n",
    "\n",
    "ans = [-2.0, 8.0, 0.0, 2.0, 11.25, 45.0, 42.0, 4.0, 2.0]\n",
    "result = [eval_postfix(i) for i in expressions]\n",
    "print('Correct answer:', result == ans)"
   ]
  },
  {
   "cell_type": "code",
   "execution_count": 7,
   "metadata": {},
   "outputs": [
    {
     "name": "stdout",
     "output_type": "stream",
     "text": [
      "/ before -  : False\n",
      "+ before *  : True\n",
      "+ before -  : False\n",
      "/ before ** : True\n"
     ]
    }
   ],
   "source": [
    "precedence = {'+' :1, '-':1, '*' :2, '/' :2,'**' :3}\n",
    "\n",
    "print('/ before -  :', precedence[\"/\"] < precedence[\"-\"])\n",
    "print('+ before *  :', precedence[\"+\"] < precedence[\"*\"])\n",
    "print('+ before -  :', precedence[\"+\"] < precedence[\"-\"])\n",
    "print('/ before ** :', precedence[\"/\"] < precedence[\"**\"])"
   ]
  },
  {
   "cell_type": "code",
   "execution_count": 8,
   "metadata": {},
   "outputs": [],
   "source": [
    "def process_opening_brackets(stack):\n",
    "    return stack.push('(')\n",
    "\n",
    "def process_closing_brackets(stack, postfix):\n",
    "    while stack.peek() != '(':\n",
    "        postfix.append(stack.pop())\n",
    "    stack.pop()\n",
    "    \n",
    "def process_operator(stack, postfix, operator):\n",
    "    while len(stack) > 0 and stack.peek() in precedence and precedence[stack.peek()] >= precedence[operator]:\n",
    "        postfix.append(stack.pop())\n",
    "    stack.push(operator)\n",
    "    \n",
    "def process_number(postfix, number):\n",
    "    postfix.append(number)    "
   ]
  },
  {
   "cell_type": "code",
   "execution_count": 9,
   "metadata": {},
   "outputs": [],
   "source": [
    "def infix_to_post(expression):\n",
    "    tokens = tokenize(expression)\n",
    "    stack = Stack()\n",
    "    postfix = []\n",
    "    \n",
    "    for t in tokens:\n",
    "        if t == '(':\n",
    "            process_opening_brackets(stack)\n",
    "        elif t == ')':\n",
    "            process_closing_brackets(stack, postfix)\n",
    "        elif t in precedence:\n",
    "            process_operator(stack, postfix, t)\n",
    "        else:\n",
    "            process_number(postfix, t)\n",
    "    \n",
    "    while len(stack) > 0:\n",
    "        postfix.append(stack.pop())\n",
    "    \n",
    "    return ' '.join(postfix)"
   ]
  },
  {
   "cell_type": "code",
   "execution_count": 10,
   "metadata": {},
   "outputs": [],
   "source": [
    "def evaluate(expression):\n",
    "    post_expression = infix_to_post(expression)\n",
    "    return eval_postfix(post_expression)"
   ]
  },
  {
   "cell_type": "code",
   "execution_count": 11,
   "metadata": {},
   "outputs": [
    {
     "name": "stdout",
     "output_type": "stream",
     "text": [
      "Correct answer: True\n"
     ]
    }
   ],
   "source": [
    "expressions = [\n",
    "    \"1 + 1\",\n",
    "    \"1 * ( 2 - ( 1 + 1 ) )\",\n",
    "    \"4 * ( 1 + 2 * ( 9 / 3 ) - 5 )\",\n",
    "    \"10 + 3 * 5 / ( 16 - 4 * 1 )\",\n",
    "    \"2 * 2 * 2 * 2 * 2 * 2 * 2 * 2\",\n",
    "    \"2 ** 2 ** 2 ** 2 ** 2\",\n",
    "    \"( 1 - 2 ) / ( 3 - 5 )\",\n",
    "    \"9 / 8 * 8\",\n",
    "    \"64 / ( 8 * 8 )\",\n",
    "]\n",
    "\n",
    "ans = [2.0, 0.0, 8.0, 11.25, 256.0, 65536.0, 0.5, 9.0, 1.0]\n",
    "result = [evaluate(i) for i in expressions]\n",
    "print('Correct answer:', result == ans)"
   ]
  }
 ],
 "metadata": {
  "kernelspec": {
   "display_name": "Python 3",
   "language": "python",
   "name": "python3"
  },
  "language_info": {
   "codemirror_mode": {
    "name": "ipython",
    "version": 3
   },
   "file_extension": ".py",
   "mimetype": "text/x-python",
   "name": "python",
   "nbconvert_exporter": "python",
   "pygments_lexer": "ipython3",
   "version": "3.8.2"
  }
 },
 "nbformat": 4,
 "nbformat_minor": 1
}